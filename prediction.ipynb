{
 "cells": [
  {
   "cell_type": "code",
   "execution_count": 2,
   "metadata": {},
   "outputs": [],
   "source": [
    "import numpy as np  \n",
    "import pandas as pd\n",
    "import tensorflow as tf\n",
    "from tensorflow.keras.datasets import imdb\n",
    "from tensorflow.keras.preprocessing import sequence\n",
    "from tensorflow.keras.models import load_model"
   ]
  },
  {
   "cell_type": "code",
   "execution_count": 3,
   "metadata": {},
   "outputs": [],
   "source": [
    "# load data\n",
    "word_index = imdb.get_word_index()\n",
    "reverse_word_index = {value:key for (key, value) in word_index.items()}"
   ]
  },
  {
   "cell_type": "code",
   "execution_count": 4,
   "metadata": {},
   "outputs": [
    {
     "name": "stderr",
     "output_type": "stream",
     "text": [
      "/Users/mayankparashar/Desktop/ANN_classi/venv/lib/python3.11/site-packages/keras/src/saving/saving_lib.py:757: UserWarning: Skipping variable loading for optimizer 'rmsprop', because it has 34 variables whereas the saved optimizer has 66 variables. \n",
      "  saveable.load_own_variables(weights_store.get(inner_path))\n"
     ]
    }
   ],
   "source": [
    "# load model\n",
    "model = load_model('simple_rnn_imdb.keras')"
   ]
  },
  {
   "cell_type": "code",
   "execution_count": 5,
   "metadata": {},
   "outputs": [
    {
     "data": {
      "text/html": [
       "<pre style=\"white-space:pre;overflow-x:auto;line-height:normal;font-family:Menlo,'DejaVu Sans Mono',consolas,'Courier New',monospace\"><span style=\"font-weight: bold\">Model: \"sequential\"</span>\n",
       "</pre>\n"
      ],
      "text/plain": [
       "\u001b[1mModel: \"sequential\"\u001b[0m\n"
      ]
     },
     "metadata": {},
     "output_type": "display_data"
    },
    {
     "data": {
      "text/html": [
       "<pre style=\"white-space:pre;overflow-x:auto;line-height:normal;font-family:Menlo,'DejaVu Sans Mono',consolas,'Courier New',monospace\">┏━━━━━━━━━━━━━━━━━━━━━━━━━━━━━━━━━┳━━━━━━━━━━━━━━━━━━━━━━━━┳━━━━━━━━━━━━━━━┓\n",
       "┃<span style=\"font-weight: bold\"> Layer (type)                    </span>┃<span style=\"font-weight: bold\"> Output Shape           </span>┃<span style=\"font-weight: bold\">       Param # </span>┃\n",
       "┡━━━━━━━━━━━━━━━━━━━━━━━━━━━━━━━━━╇━━━━━━━━━━━━━━━━━━━━━━━━╇━━━━━━━━━━━━━━━┩\n",
       "│ embedding (<span style=\"color: #0087ff; text-decoration-color: #0087ff\">Embedding</span>)           │ (<span style=\"color: #00af00; text-decoration-color: #00af00\">32</span>, <span style=\"color: #00af00; text-decoration-color: #00af00\">500</span>, <span style=\"color: #00af00; text-decoration-color: #00af00\">128</span>)         │     <span style=\"color: #00af00; text-decoration-color: #00af00\">1,280,000</span> │\n",
       "├─────────────────────────────────┼────────────────────────┼───────────────┤\n",
       "│ simple_rnn (<span style=\"color: #0087ff; text-decoration-color: #0087ff\">SimpleRNN</span>)          │ (<span style=\"color: #00af00; text-decoration-color: #00af00\">32</span>, <span style=\"color: #00af00; text-decoration-color: #00af00\">128</span>)              │        <span style=\"color: #00af00; text-decoration-color: #00af00\">32,896</span> │\n",
       "├─────────────────────────────────┼────────────────────────┼───────────────┤\n",
       "│ dense (<span style=\"color: #0087ff; text-decoration-color: #0087ff\">Dense</span>)                   │ (<span style=\"color: #00af00; text-decoration-color: #00af00\">32</span>, <span style=\"color: #00af00; text-decoration-color: #00af00\">1</span>)                │           <span style=\"color: #00af00; text-decoration-color: #00af00\">129</span> │\n",
       "├─────────────────────────────────┼────────────────────────┼───────────────┤\n",
       "│ dense_1 (<span style=\"color: #0087ff; text-decoration-color: #0087ff\">Dense</span>)                 │ (<span style=\"color: #00af00; text-decoration-color: #00af00\">32</span>, <span style=\"color: #00af00; text-decoration-color: #00af00\">1</span>)                │             <span style=\"color: #00af00; text-decoration-color: #00af00\">2</span> │\n",
       "├─────────────────────────────────┼────────────────────────┼───────────────┤\n",
       "│ dense_2 (<span style=\"color: #0087ff; text-decoration-color: #0087ff\">Dense</span>)                 │ (<span style=\"color: #00af00; text-decoration-color: #00af00\">32</span>, <span style=\"color: #00af00; text-decoration-color: #00af00\">1</span>)                │             <span style=\"color: #00af00; text-decoration-color: #00af00\">2</span> │\n",
       "├─────────────────────────────────┼────────────────────────┼───────────────┤\n",
       "│ dense_3 (<span style=\"color: #0087ff; text-decoration-color: #0087ff\">Dense</span>)                 │ (<span style=\"color: #00af00; text-decoration-color: #00af00\">32</span>, <span style=\"color: #00af00; text-decoration-color: #00af00\">1</span>)                │             <span style=\"color: #00af00; text-decoration-color: #00af00\">2</span> │\n",
       "├─────────────────────────────────┼────────────────────────┼───────────────┤\n",
       "│ dense_4 (<span style=\"color: #0087ff; text-decoration-color: #0087ff\">Dense</span>)                 │ (<span style=\"color: #00af00; text-decoration-color: #00af00\">32</span>, <span style=\"color: #00af00; text-decoration-color: #00af00\">1</span>)                │             <span style=\"color: #00af00; text-decoration-color: #00af00\">2</span> │\n",
       "├─────────────────────────────────┼────────────────────────┼───────────────┤\n",
       "│ dense_5 (<span style=\"color: #0087ff; text-decoration-color: #0087ff\">Dense</span>)                 │ (<span style=\"color: #00af00; text-decoration-color: #00af00\">32</span>, <span style=\"color: #00af00; text-decoration-color: #00af00\">1</span>)                │             <span style=\"color: #00af00; text-decoration-color: #00af00\">2</span> │\n",
       "├─────────────────────────────────┼────────────────────────┼───────────────┤\n",
       "│ dense_6 (<span style=\"color: #0087ff; text-decoration-color: #0087ff\">Dense</span>)                 │ (<span style=\"color: #00af00; text-decoration-color: #00af00\">32</span>, <span style=\"color: #00af00; text-decoration-color: #00af00\">1</span>)                │             <span style=\"color: #00af00; text-decoration-color: #00af00\">2</span> │\n",
       "├─────────────────────────────────┼────────────────────────┼───────────────┤\n",
       "│ dense_7 (<span style=\"color: #0087ff; text-decoration-color: #0087ff\">Dense</span>)                 │ (<span style=\"color: #00af00; text-decoration-color: #00af00\">32</span>, <span style=\"color: #00af00; text-decoration-color: #00af00\">1</span>)                │             <span style=\"color: #00af00; text-decoration-color: #00af00\">2</span> │\n",
       "├─────────────────────────────────┼────────────────────────┼───────────────┤\n",
       "│ dense_8 (<span style=\"color: #0087ff; text-decoration-color: #0087ff\">Dense</span>)                 │ (<span style=\"color: #00af00; text-decoration-color: #00af00\">32</span>, <span style=\"color: #00af00; text-decoration-color: #00af00\">1</span>)                │             <span style=\"color: #00af00; text-decoration-color: #00af00\">2</span> │\n",
       "├─────────────────────────────────┼────────────────────────┼───────────────┤\n",
       "│ dense_9 (<span style=\"color: #0087ff; text-decoration-color: #0087ff\">Dense</span>)                 │ (<span style=\"color: #00af00; text-decoration-color: #00af00\">32</span>, <span style=\"color: #00af00; text-decoration-color: #00af00\">1</span>)                │             <span style=\"color: #00af00; text-decoration-color: #00af00\">2</span> │\n",
       "├─────────────────────────────────┼────────────────────────┼───────────────┤\n",
       "│ dense_10 (<span style=\"color: #0087ff; text-decoration-color: #0087ff\">Dense</span>)                │ (<span style=\"color: #00af00; text-decoration-color: #00af00\">32</span>, <span style=\"color: #00af00; text-decoration-color: #00af00\">1</span>)                │             <span style=\"color: #00af00; text-decoration-color: #00af00\">2</span> │\n",
       "├─────────────────────────────────┼────────────────────────┼───────────────┤\n",
       "│ dense_11 (<span style=\"color: #0087ff; text-decoration-color: #0087ff\">Dense</span>)                │ (<span style=\"color: #00af00; text-decoration-color: #00af00\">32</span>, <span style=\"color: #00af00; text-decoration-color: #00af00\">1</span>)                │             <span style=\"color: #00af00; text-decoration-color: #00af00\">2</span> │\n",
       "├─────────────────────────────────┼────────────────────────┼───────────────┤\n",
       "│ dense_12 (<span style=\"color: #0087ff; text-decoration-color: #0087ff\">Dense</span>)                │ (<span style=\"color: #00af00; text-decoration-color: #00af00\">32</span>, <span style=\"color: #00af00; text-decoration-color: #00af00\">1</span>)                │             <span style=\"color: #00af00; text-decoration-color: #00af00\">2</span> │\n",
       "├─────────────────────────────────┼────────────────────────┼───────────────┤\n",
       "│ dense_13 (<span style=\"color: #0087ff; text-decoration-color: #0087ff\">Dense</span>)                │ (<span style=\"color: #00af00; text-decoration-color: #00af00\">32</span>, <span style=\"color: #00af00; text-decoration-color: #00af00\">1</span>)                │             <span style=\"color: #00af00; text-decoration-color: #00af00\">2</span> │\n",
       "└─────────────────────────────────┴────────────────────────┴───────────────┘\n",
       "</pre>\n"
      ],
      "text/plain": [
       "┏━━━━━━━━━━━━━━━━━━━━━━━━━━━━━━━━━┳━━━━━━━━━━━━━━━━━━━━━━━━┳━━━━━━━━━━━━━━━┓\n",
       "┃\u001b[1m \u001b[0m\u001b[1mLayer (type)                   \u001b[0m\u001b[1m \u001b[0m┃\u001b[1m \u001b[0m\u001b[1mOutput Shape          \u001b[0m\u001b[1m \u001b[0m┃\u001b[1m \u001b[0m\u001b[1m      Param #\u001b[0m\u001b[1m \u001b[0m┃\n",
       "┡━━━━━━━━━━━━━━━━━━━━━━━━━━━━━━━━━╇━━━━━━━━━━━━━━━━━━━━━━━━╇━━━━━━━━━━━━━━━┩\n",
       "│ embedding (\u001b[38;5;33mEmbedding\u001b[0m)           │ (\u001b[38;5;34m32\u001b[0m, \u001b[38;5;34m500\u001b[0m, \u001b[38;5;34m128\u001b[0m)         │     \u001b[38;5;34m1,280,000\u001b[0m │\n",
       "├─────────────────────────────────┼────────────────────────┼───────────────┤\n",
       "│ simple_rnn (\u001b[38;5;33mSimpleRNN\u001b[0m)          │ (\u001b[38;5;34m32\u001b[0m, \u001b[38;5;34m128\u001b[0m)              │        \u001b[38;5;34m32,896\u001b[0m │\n",
       "├─────────────────────────────────┼────────────────────────┼───────────────┤\n",
       "│ dense (\u001b[38;5;33mDense\u001b[0m)                   │ (\u001b[38;5;34m32\u001b[0m, \u001b[38;5;34m1\u001b[0m)                │           \u001b[38;5;34m129\u001b[0m │\n",
       "├─────────────────────────────────┼────────────────────────┼───────────────┤\n",
       "│ dense_1 (\u001b[38;5;33mDense\u001b[0m)                 │ (\u001b[38;5;34m32\u001b[0m, \u001b[38;5;34m1\u001b[0m)                │             \u001b[38;5;34m2\u001b[0m │\n",
       "├─────────────────────────────────┼────────────────────────┼───────────────┤\n",
       "│ dense_2 (\u001b[38;5;33mDense\u001b[0m)                 │ (\u001b[38;5;34m32\u001b[0m, \u001b[38;5;34m1\u001b[0m)                │             \u001b[38;5;34m2\u001b[0m │\n",
       "├─────────────────────────────────┼────────────────────────┼───────────────┤\n",
       "│ dense_3 (\u001b[38;5;33mDense\u001b[0m)                 │ (\u001b[38;5;34m32\u001b[0m, \u001b[38;5;34m1\u001b[0m)                │             \u001b[38;5;34m2\u001b[0m │\n",
       "├─────────────────────────────────┼────────────────────────┼───────────────┤\n",
       "│ dense_4 (\u001b[38;5;33mDense\u001b[0m)                 │ (\u001b[38;5;34m32\u001b[0m, \u001b[38;5;34m1\u001b[0m)                │             \u001b[38;5;34m2\u001b[0m │\n",
       "├─────────────────────────────────┼────────────────────────┼───────────────┤\n",
       "│ dense_5 (\u001b[38;5;33mDense\u001b[0m)                 │ (\u001b[38;5;34m32\u001b[0m, \u001b[38;5;34m1\u001b[0m)                │             \u001b[38;5;34m2\u001b[0m │\n",
       "├─────────────────────────────────┼────────────────────────┼───────────────┤\n",
       "│ dense_6 (\u001b[38;5;33mDense\u001b[0m)                 │ (\u001b[38;5;34m32\u001b[0m, \u001b[38;5;34m1\u001b[0m)                │             \u001b[38;5;34m2\u001b[0m │\n",
       "├─────────────────────────────────┼────────────────────────┼───────────────┤\n",
       "│ dense_7 (\u001b[38;5;33mDense\u001b[0m)                 │ (\u001b[38;5;34m32\u001b[0m, \u001b[38;5;34m1\u001b[0m)                │             \u001b[38;5;34m2\u001b[0m │\n",
       "├─────────────────────────────────┼────────────────────────┼───────────────┤\n",
       "│ dense_8 (\u001b[38;5;33mDense\u001b[0m)                 │ (\u001b[38;5;34m32\u001b[0m, \u001b[38;5;34m1\u001b[0m)                │             \u001b[38;5;34m2\u001b[0m │\n",
       "├─────────────────────────────────┼────────────────────────┼───────────────┤\n",
       "│ dense_9 (\u001b[38;5;33mDense\u001b[0m)                 │ (\u001b[38;5;34m32\u001b[0m, \u001b[38;5;34m1\u001b[0m)                │             \u001b[38;5;34m2\u001b[0m │\n",
       "├─────────────────────────────────┼────────────────────────┼───────────────┤\n",
       "│ dense_10 (\u001b[38;5;33mDense\u001b[0m)                │ (\u001b[38;5;34m32\u001b[0m, \u001b[38;5;34m1\u001b[0m)                │             \u001b[38;5;34m2\u001b[0m │\n",
       "├─────────────────────────────────┼────────────────────────┼───────────────┤\n",
       "│ dense_11 (\u001b[38;5;33mDense\u001b[0m)                │ (\u001b[38;5;34m32\u001b[0m, \u001b[38;5;34m1\u001b[0m)                │             \u001b[38;5;34m2\u001b[0m │\n",
       "├─────────────────────────────────┼────────────────────────┼───────────────┤\n",
       "│ dense_12 (\u001b[38;5;33mDense\u001b[0m)                │ (\u001b[38;5;34m32\u001b[0m, \u001b[38;5;34m1\u001b[0m)                │             \u001b[38;5;34m2\u001b[0m │\n",
       "├─────────────────────────────────┼────────────────────────┼───────────────┤\n",
       "│ dense_13 (\u001b[38;5;33mDense\u001b[0m)                │ (\u001b[38;5;34m32\u001b[0m, \u001b[38;5;34m1\u001b[0m)                │             \u001b[38;5;34m2\u001b[0m │\n",
       "└─────────────────────────────────┴────────────────────────┴───────────────┘\n"
      ]
     },
     "metadata": {},
     "output_type": "display_data"
    },
    {
     "data": {
      "text/html": [
       "<pre style=\"white-space:pre;overflow-x:auto;line-height:normal;font-family:Menlo,'DejaVu Sans Mono',consolas,'Courier New',monospace\"><span style=\"font-weight: bold\"> Total params: </span><span style=\"color: #00af00; text-decoration-color: #00af00\">2,626,104</span> (10.02 MB)\n",
       "</pre>\n"
      ],
      "text/plain": [
       "\u001b[1m Total params: \u001b[0m\u001b[38;5;34m2,626,104\u001b[0m (10.02 MB)\n"
      ]
     },
     "metadata": {},
     "output_type": "display_data"
    },
    {
     "data": {
      "text/html": [
       "<pre style=\"white-space:pre;overflow-x:auto;line-height:normal;font-family:Menlo,'DejaVu Sans Mono',consolas,'Courier New',monospace\"><span style=\"font-weight: bold\"> Trainable params: </span><span style=\"color: #00af00; text-decoration-color: #00af00\">1,313,051</span> (5.01 MB)\n",
       "</pre>\n"
      ],
      "text/plain": [
       "\u001b[1m Trainable params: \u001b[0m\u001b[38;5;34m1,313,051\u001b[0m (5.01 MB)\n"
      ]
     },
     "metadata": {},
     "output_type": "display_data"
    },
    {
     "data": {
      "text/html": [
       "<pre style=\"white-space:pre;overflow-x:auto;line-height:normal;font-family:Menlo,'DejaVu Sans Mono',consolas,'Courier New',monospace\"><span style=\"font-weight: bold\"> Non-trainable params: </span><span style=\"color: #00af00; text-decoration-color: #00af00\">0</span> (0.00 B)\n",
       "</pre>\n"
      ],
      "text/plain": [
       "\u001b[1m Non-trainable params: \u001b[0m\u001b[38;5;34m0\u001b[0m (0.00 B)\n"
      ]
     },
     "metadata": {},
     "output_type": "display_data"
    },
    {
     "data": {
      "text/html": [
       "<pre style=\"white-space:pre;overflow-x:auto;line-height:normal;font-family:Menlo,'DejaVu Sans Mono',consolas,'Courier New',monospace\"><span style=\"font-weight: bold\"> Optimizer params: </span><span style=\"color: #00af00; text-decoration-color: #00af00\">1,313,053</span> (5.01 MB)\n",
       "</pre>\n"
      ],
      "text/plain": [
       "\u001b[1m Optimizer params: \u001b[0m\u001b[38;5;34m1,313,053\u001b[0m (5.01 MB)\n"
      ]
     },
     "metadata": {},
     "output_type": "display_data"
    }
   ],
   "source": [
    "model.summary()"
   ]
  },
  {
   "cell_type": "code",
   "execution_count": 6,
   "metadata": {},
   "outputs": [
    {
     "data": {
      "text/plain": [
       "[array([[-0.02710611, -0.04635757, -0.03150623, ...,  0.03497693,\n",
       "         -0.04063314, -0.00658431],\n",
       "        [-0.01897583, -0.04435487, -0.02835679, ..., -0.03846835,\n",
       "         -0.01382283,  0.03474883],\n",
       "        [-0.01430575,  0.01568595,  0.04838425, ..., -0.00468772,\n",
       "         -0.04016204,  0.01294053],\n",
       "        ...,\n",
       "        [ 0.02571268, -0.01306677,  0.0018133 , ..., -0.0481918 ,\n",
       "          0.01729276, -0.00502299],\n",
       "        [-0.01827012,  0.04927392,  0.03886883, ..., -0.0039119 ,\n",
       "         -0.00222188, -0.03942597],\n",
       "        [-0.02252394,  0.00469309,  0.03935704, ...,  0.02680793,\n",
       "          0.0303839 , -0.01361601]], dtype=float32),\n",
       " array([[-0.08920196, -0.0748297 , -0.06723119, ..., -0.01067522,\n",
       "          0.00078943, -0.00369504],\n",
       "        [-0.0486365 , -0.13803932, -0.01543015, ..., -0.07468928,\n",
       "         -0.03126705,  0.14203523],\n",
       "        [ 0.10362603, -0.002012  ,  0.00399809, ...,  0.11700697,\n",
       "         -0.02975609,  0.04103613],\n",
       "        ...,\n",
       "        [-0.11345819,  0.11630212, -0.07577089, ..., -0.01935425,\n",
       "          0.12711309, -0.02577096],\n",
       "        [ 0.02899507, -0.07597639, -0.1347266 , ...,  0.08758138,\n",
       "         -0.10678668, -0.11534321],\n",
       "        [-0.14344898,  0.07475607,  0.10503174, ...,  0.09189348,\n",
       "         -0.02076341, -0.06096771]], dtype=float32),\n",
       " array([[-0.06737161,  0.2395574 , -0.11357027, ..., -0.01889094,\n",
       "         -0.00585842, -0.03342479],\n",
       "        [-0.2190084 , -0.13696897,  0.01104151, ..., -0.11678375,\n",
       "         -0.10764117,  0.02881273],\n",
       "        [ 0.00532754, -0.01054198,  0.12851131, ..., -0.08207379,\n",
       "          0.06434091, -0.05013583],\n",
       "        ...,\n",
       "        [-0.04476231, -0.0309598 ,  0.03381955, ...,  0.0995513 ,\n",
       "         -0.04979876,  0.02738778],\n",
       "        [-0.10422879, -0.05144472,  0.04085239, ...,  0.06085715,\n",
       "          0.07531919, -0.18252072],\n",
       "        [ 0.15149342, -0.14368808,  0.0377581 , ...,  0.11743964,\n",
       "         -0.00865674, -0.03706687]], dtype=float32),\n",
       " array([-1.5785457e-06, -2.1595597e-06,  1.0298943e-06,  1.7796484e-06,\n",
       "         9.9992690e-07, -2.7270823e-06, -2.1582257e-07,  1.1994783e-06,\n",
       "         2.8883267e-07, -2.8641987e-06,  1.9334968e-06,  4.3174094e-07,\n",
       "         2.6890007e-06,  3.4869804e-06,  1.0382569e-06,  6.4960477e-07,\n",
       "         1.5377835e-06,  2.2416636e-07,  2.0960413e-06,  5.1150653e-07,\n",
       "        -2.4935230e-06,  2.0202281e-06, -1.7892680e-06, -9.9623298e-07,\n",
       "        -1.1998504e-06,  2.6495536e-06, -7.6225888e-07, -1.5142829e-06,\n",
       "         1.2726988e-06, -1.0993812e-06,  1.7158221e-06, -6.2096638e-07,\n",
       "         5.0283234e-07, -3.2478272e-07,  2.5247911e-07,  1.1833095e-06,\n",
       "         1.1294834e-06,  1.8253215e-06, -2.0328891e-06, -6.5444101e-07,\n",
       "         1.6847936e-06,  2.8706120e-06, -5.8597959e-07,  3.1184581e-07,\n",
       "        -8.0313993e-07,  3.9508036e-06,  3.5166993e-06, -2.2373121e-07,\n",
       "         1.9031304e-06,  4.8171790e-07, -8.5892964e-07, -2.6912642e-07,\n",
       "        -3.5066150e-06, -7.0857607e-07,  1.5805052e-06,  3.8169437e-06,\n",
       "         5.6895379e-07,  7.3401566e-06,  7.6787484e-07,  1.0563098e-06,\n",
       "        -2.4780984e-06,  4.7492495e-06, -1.7214221e-06,  3.1454741e-07,\n",
       "         1.5115723e-06, -1.7181233e-07, -3.0558382e-07,  4.8617289e-06,\n",
       "         8.7655984e-08,  1.2212561e-07, -1.9786778e-06,  2.2206466e-06,\n",
       "        -3.3436761e-06,  1.8363407e-07,  1.1029099e-06,  5.9798015e-07,\n",
       "        -3.5645974e-06, -4.0612063e-06,  1.8951071e-06,  1.9965153e-06,\n",
       "         1.7793959e-06,  3.1867075e-06,  2.1369417e-06, -1.2550198e-06,\n",
       "        -2.0301006e-06, -1.1575211e-06,  1.3314598e-06,  1.2270968e-06,\n",
       "        -4.3460642e-07, -6.4857790e-07, -2.2226511e-06,  8.6473915e-07,\n",
       "        -6.1813552e-07,  5.1867710e-07, -1.1831195e-06,  1.2337956e-06,\n",
       "         1.3686937e-06, -2.3168293e-06,  2.6815694e-06, -1.8412569e-06,\n",
       "         1.6210242e-06,  3.4577354e-06,  3.7584898e-06, -7.3003707e-07,\n",
       "         4.5822095e-08,  1.0408969e-06, -3.8588130e-08, -8.6969561e-07,\n",
       "         3.1257732e-06, -8.8083311e-07, -1.7803417e-06, -1.5391158e-06,\n",
       "         9.9481963e-07,  9.9028409e-07, -6.3208532e-08,  3.5962117e-07,\n",
       "        -1.2851343e-06,  2.6228677e-06,  9.9467066e-09,  2.4766263e-07,\n",
       "         5.2275732e-07, -1.5321829e-07,  2.1876422e-06, -8.2382951e-07,\n",
       "         5.7386646e-06,  1.9719275e-06, -1.1402506e-06,  1.8730996e-07],\n",
       "       dtype=float32),\n",
       " array([[-0.1653007 ],\n",
       "        [-0.19041476],\n",
       "        [ 0.02526781],\n",
       "        [ 0.17801505],\n",
       "        [ 0.12612444],\n",
       "        [-0.13715298],\n",
       "        [ 0.10790917],\n",
       "        [-0.02037445],\n",
       "        [ 0.1090188 ],\n",
       "        [ 0.04178976],\n",
       "        [-0.05805005],\n",
       "        [-0.00963955],\n",
       "        [-0.09841555],\n",
       "        [-0.12104465],\n",
       "        [-0.15979859],\n",
       "        [-0.01774497],\n",
       "        [-0.05293687],\n",
       "        [-0.05303425],\n",
       "        [ 0.10927245],\n",
       "        [-0.15748033],\n",
       "        [-0.00094911],\n",
       "        [-0.12912987],\n",
       "        [-0.17171575],\n",
       "        [-0.20609206],\n",
       "        [-0.19776249],\n",
       "        [ 0.17594627],\n",
       "        [-0.17978807],\n",
       "        [ 0.1757502 ],\n",
       "        [ 0.08473858],\n",
       "        [ 0.05710086],\n",
       "        [ 0.12407491],\n",
       "        [-0.21226971],\n",
       "        [-0.17358354],\n",
       "        [-0.04002239],\n",
       "        [-0.09468312],\n",
       "        [ 0.1054855 ],\n",
       "        [-0.03660743],\n",
       "        [ 0.10716146],\n",
       "        [-0.13605098],\n",
       "        [ 0.10755882],\n",
       "        [-0.03402723],\n",
       "        [-0.14198403],\n",
       "        [-0.04744412],\n",
       "        [-0.19270253],\n",
       "        [ 0.17888203],\n",
       "        [-0.04562101],\n",
       "        [ 0.092087  ],\n",
       "        [-0.12602521],\n",
       "        [ 0.12403032],\n",
       "        [-0.01067065],\n",
       "        [ 0.11001509],\n",
       "        [-0.152182  ],\n",
       "        [ 0.21359774],\n",
       "        [-0.1398373 ],\n",
       "        [-0.099773  ],\n",
       "        [ 0.19874802],\n",
       "        [-0.03774974],\n",
       "        [ 0.18173796],\n",
       "        [-0.0761255 ],\n",
       "        [ 0.07617831],\n",
       "        [ 0.01903361],\n",
       "        [ 0.10846925],\n",
       "        [-0.13498914],\n",
       "        [-0.07503568],\n",
       "        [-0.03610575],\n",
       "        [-0.12865287],\n",
       "        [-0.03072718],\n",
       "        [ 0.21550873],\n",
       "        [ 0.12850046],\n",
       "        [ 0.03053591],\n",
       "        [-0.09822535],\n",
       "        [-0.14798403],\n",
       "        [-0.20543215],\n",
       "        [-0.05871417],\n",
       "        [-0.04378234],\n",
       "        [ 0.00862517],\n",
       "        [ 0.15444484],\n",
       "        [ 0.01856759],\n",
       "        [-0.17599347],\n",
       "        [-0.06747647],\n",
       "        [-0.022248  ],\n",
       "        [ 0.18342784],\n",
       "        [ 0.19119269],\n",
       "        [ 0.10242033],\n",
       "        [ 0.14727706],\n",
       "        [-0.21238683],\n",
       "        [ 0.11012307],\n",
       "        [ 0.20318171],\n",
       "        [-0.21563007],\n",
       "        [ 0.00983393],\n",
       "        [-0.13406709],\n",
       "        [-0.04987092],\n",
       "        [-0.15721881],\n",
       "        [-0.02282313],\n",
       "        [ 0.20363647],\n",
       "        [-0.09741849],\n",
       "        [-0.14377551],\n",
       "        [ 0.12655458],\n",
       "        [-0.18524271],\n",
       "        [ 0.04168138],\n",
       "        [-0.18447787],\n",
       "        [-0.17784917],\n",
       "        [ 0.18581608],\n",
       "        [-0.01809926],\n",
       "        [ 0.06895486],\n",
       "        [-0.13684684],\n",
       "        [-0.1774138 ],\n",
       "        [-0.06335665],\n",
       "        [ 0.09947154],\n",
       "        [-0.07340057],\n",
       "        [ 0.15943754],\n",
       "        [-0.00263137],\n",
       "        [ 0.05936918],\n",
       "        [ 0.11323658],\n",
       "        [ 0.09202456],\n",
       "        [-0.01153844],\n",
       "        [ 0.15702704],\n",
       "        [-0.16588014],\n",
       "        [ 0.19192061],\n",
       "        [ 0.19371492],\n",
       "        [-0.06763309],\n",
       "        [ 0.13822529],\n",
       "        [ 0.12352005],\n",
       "        [-0.02896841],\n",
       "        [ 0.19243649],\n",
       "        [-0.15505435],\n",
       "        [-0.1366677 ],\n",
       "        [ 0.17019945]], dtype=float32),\n",
       " array([3.9025917e-08], dtype=float32),\n",
       " array([[-1.35477]], dtype=float32),\n",
       " array([-5.0740496e-08], dtype=float32),\n",
       " array([[-1.591832]], dtype=float32),\n",
       " array([1.1554794e-06], dtype=float32),\n",
       " array([[0.0125909]], dtype=float32),\n",
       " array([0.00480071], dtype=float32),\n",
       " array([[-1.6519064]], dtype=float32),\n",
       " array([-0.01227216], dtype=float32),\n",
       " array([[0.12088537]], dtype=float32),\n",
       " array([-0.1475858], dtype=float32),\n",
       " array([[-0.8164861]], dtype=float32),\n",
       " array([0.21355723], dtype=float32),\n",
       " array([[-1.8744559]], dtype=float32),\n",
       " array([-0.21804225], dtype=float32),\n",
       " array([[1.4810632]], dtype=float32),\n",
       " array([-0.24618904], dtype=float32),\n",
       " array([[-0.926098]], dtype=float32),\n",
       " array([0.25822946], dtype=float32),\n",
       " array([[-0.75722235]], dtype=float32),\n",
       " array([-0.21957459], dtype=float32),\n",
       " array([[-0.79955417]], dtype=float32),\n",
       " array([0.24046412], dtype=float32),\n",
       " array([[-0.514564]], dtype=float32),\n",
       " array([-0.19252734], dtype=float32),\n",
       " array([[-0.74815637]], dtype=float32),\n",
       " array([0.2847271], dtype=float32)]"
      ]
     },
     "execution_count": 6,
     "metadata": {},
     "output_type": "execute_result"
    }
   ],
   "source": [
    "model.get_weights()"
   ]
  },
  {
   "cell_type": "code",
   "execution_count": 7,
   "metadata": {},
   "outputs": [],
   "source": [
    "# function to decode review\n",
    "def decode_review(encoded_review):\n",
    "    return ' '.join([reverse_word_index.get(i-3, '?') for i in encoded_review])\n",
    "\n",
    "# function to preprocess review\n",
    "def preprocess_review(text):\n",
    "    words = text.lower().split()\n",
    "    encoded_review = [word_index.get(word, 2)+3 for word in words]\n",
    "    padded_review = sequence.pad_sequences([encoded_review], 500)\n",
    "    return padded_review\n",
    "    \n",
    "    \n",
    "    "
   ]
  },
  {
   "cell_type": "code",
   "execution_count": 8,
   "metadata": {},
   "outputs": [],
   "source": [
    "#prediction function\n",
    "def predict_sentiment(review):\n",
    "    preprocessed_input = preprocess_review(review)\n",
    "    prediction = model.predict(preprocessed_input)\n",
    "    sentiment = 'positive' if prediction > 0.5 else 'negative'\n",
    "    return sentiment, prediction[0][0]"
   ]
  },
  {
   "cell_type": "code",
   "execution_count": 12,
   "metadata": {},
   "outputs": [
    {
     "name": "stdout",
     "output_type": "stream",
     "text": [
      "\u001b[1m1/1\u001b[0m \u001b[32m━━━━━━━━━━━━━━━━━━━━\u001b[0m\u001b[37m\u001b[0m \u001b[1m0s\u001b[0m 31ms/step\n",
      "Review: very good film\n",
      "Sentiment: negative\n",
      "Score: 0.49805375933647156\n"
     ]
    }
   ],
   "source": [
    "#user input and prediction\n",
    "exxample_review = 'very good film'\n",
    "sentiment , score = predict_sentiment(exxample_review)\n",
    "print(f'Review: {exxample_review}')\n",
    "print(f'Sentiment: {sentiment}')\n",
    "print(f'Score: {score}')   "
   ]
  },
  {
   "cell_type": "code",
   "execution_count": null,
   "metadata": {},
   "outputs": [],
   "source": []
  },
  {
   "cell_type": "code",
   "execution_count": null,
   "metadata": {},
   "outputs": [
    {
     "ename": "",
     "evalue": "",
     "output_type": "error",
     "traceback": [
      "\u001b[1;31mnotebook controller is DISPOSED. \n",
      "\u001b[1;31mView Jupyter <a href='command:jupyter.viewOutput'>log</a> for further details."
     ]
    }
   ],
   "source": []
  },
  {
   "cell_type": "code",
   "execution_count": null,
   "metadata": {},
   "outputs": [
    {
     "ename": "",
     "evalue": "",
     "output_type": "error",
     "traceback": [
      "\u001b[1;31mnotebook controller is DISPOSED. \n",
      "\u001b[1;31mView Jupyter <a href='command:jupyter.viewOutput'>log</a> for further details."
     ]
    }
   ],
   "source": []
  },
  {
   "cell_type": "code",
   "execution_count": null,
   "metadata": {},
   "outputs": [
    {
     "ename": "",
     "evalue": "",
     "output_type": "error",
     "traceback": [
      "\u001b[1;31mnotebook controller is DISPOSED. \n",
      "\u001b[1;31mView Jupyter <a href='command:jupyter.viewOutput'>log</a> for further details."
     ]
    }
   ],
   "source": []
  }
 ],
 "metadata": {
  "kernelspec": {
   "display_name": "venv",
   "language": "python",
   "name": "python3"
  },
  "language_info": {
   "codemirror_mode": {
    "name": "ipython",
    "version": 3
   },
   "file_extension": ".py",
   "mimetype": "text/x-python",
   "name": "python",
   "nbconvert_exporter": "python",
   "pygments_lexer": "ipython3",
   "version": "3.11.10"
  }
 },
 "nbformat": 4,
 "nbformat_minor": 2
}
